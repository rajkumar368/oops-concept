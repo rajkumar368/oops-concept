{
 "cells": [
  {
   "cell_type": "markdown",
   "id": "6463befd",
   "metadata": {},
   "source": [
    "Object Oriented programming provide concept of class and objects\n",
    "\n",
    "Everything in python is objects ?\n",
    "\n",
    "Objects(Instance): Attribute (Data) and behavior (method)\n",
    "   Ex: Human have atrr like name, age, height and behavior like can talk, eat,run etc\n",
    "So if we want to store something then we need varraible and if we want to do something then we need method.\n",
    "\n",
    "Class: so class is basically a blue print (design), from this we can generate n number of object,\n",
    "Ex: for iphone 13 first they created a class (Design) then they manufactured n number of mobile."
   ]
  },
  {
   "cell_type": "code",
   "execution_count": 17,
   "id": "deb03bd6",
   "metadata": {},
   "outputs": [
    {
     "name": "stdout",
     "output_type": "stream",
     "text": [
      "<__main__.Computer object at 0x7f866c43d8d0>\n",
      "system having x number of config\n",
      "system having x number of config\n",
      "system having x number of config\n",
      "system having x number of config\n",
      "<class 'int'>\n"
     ]
    },
    {
     "data": {
      "text/plain": [
       "3"
      ]
     },
     "execution_count": 17,
     "metadata": {},
     "output_type": "execute_result"
    }
   ],
   "source": [
    "class Computer:\n",
    "    \n",
    "    def config(self):\n",
    "#       self is the object which we are passing \n",
    "        print(\"system having x number of config\")\n",
    "        \n",
    "comp1 = Computer()\n",
    "comp2 = Computer()\n",
    "print(comp1)\n",
    "\n",
    "# calling config by passing object\n",
    "Computer.config(comp1)\n",
    "Computer.config(comp2)\n",
    "\n",
    "# calling config by object\n",
    "comp1.config()\n",
    "comp2.config()\n",
    "\n",
    "a = 5\n",
    "print(type(a))\n",
    "a.bit_length()"
   ]
  },
  {
   "cell_type": "code",
   "execution_count": 22,
   "id": "b6462db0",
   "metadata": {},
   "outputs": [
    {
     "name": "stdout",
     "output_type": "stream",
     "text": [
      "from init\n",
      "from init\n",
      "raj is 23 year old\n",
      "deven is 26 year old\n",
      "5.6 5.6\n"
     ]
    }
   ],
   "source": [
    "# __init__ (special method)\n",
    "# for every object it get call once, it's work as a constructor, it call internally\n",
    "\n",
    "class Human:\n",
    "    \n",
    "    def __init__(self, name, age):\n",
    "        print(\"from init\")\n",
    "        self.name = name\n",
    "        self.age = age\n",
    "        self.height = 5.6\n",
    "        \n",
    "    def get_data(self):\n",
    "        print(f\"{self.name} is {self.age} year old\")\n",
    "        \n",
    "hum1 = Human(name=\"raj\", age=23)\n",
    "hum2 = Human(name=\"deven\", age=26)\n",
    "\n",
    "hum1.get_data()\n",
    "hum2.get_data()\n",
    "print(hum1.height, hum2.height)\n",
    "\n"
   ]
  },
  {
   "cell_type": "markdown",
   "id": "b8ad8493",
   "metadata": {},
   "source": [
    "Varriable: there are two types of varriable.\n",
    "\n",
    "    1 Instance varriable\n",
    "    2. class (static) varriable => wme define it outside of the init method and it is common for all\n"
   ]
  },
  {
   "cell_type": "code",
   "execution_count": 32,
   "id": "9dbd3c80",
   "metadata": {},
   "outputs": [
    {
     "name": "stdout",
     "output_type": "stream",
     "text": [
      "4\n"
     ]
    }
   ],
   "source": [
    "class Car:\n",
    "    \n",
    "#   class varriable\n",
    "    wheel = 4\n",
    "    \n",
    "    def __init__(self, speed, engine):\n",
    "#       instance varriable\n",
    "        self.speed = speed\n",
    "        self.engine = engine\n",
    "        \n",
    "\n",
    "c1 = Car(10,\"2-stroke\")\n",
    "c2 = Car(20,\"4-stroke\")\n",
    "\n",
    "c1.speed = 30\n",
    "\n",
    "c1.speed\n",
    "c2.wheel\n",
    "\n",
    "c1.wheel = 5\n",
    "\n",
    "print(c2.wheel)\n",
    "        \n",
    "        "
   ]
  },
  {
   "cell_type": "markdown",
   "id": "2af65572",
   "metadata": {},
   "source": [
    "Method => there are three types of method:\n",
    "    \n",
    "    1. instance method\n",
    "    2. class method\n",
    "    3 static method\n",
    "    \n",
    "there are also other two type of instance method => accessor method and mutator method (getter and setter)\n"
   ]
  },
  {
   "cell_type": "code",
   "execution_count": 74,
   "id": "f1092fe6",
   "metadata": {},
   "outputs": [
    {
     "name": "stdout",
     "output_type": "stream",
     "text": [
      "15.0\n",
      "school name is Govt. School kota\n",
      "this is the class of abc\n"
     ]
    }
   ],
   "source": [
    "\n",
    "class School:\n",
    "    \n",
    "    school_name = \"Govt. School kota\"\n",
    "    \n",
    "    def __init__(self, m1,m2):\n",
    "        self.m1 = m1\n",
    "        self.m2 = m2\n",
    "        \n",
    "#   we are using here self keyword which point to the specific instance of class.\n",
    "    def avg(self):\n",
    "        print((self.m1+self.m2)/2)\n",
    "    \n",
    "    @classmethod\n",
    "    def get_school_name(cls):\n",
    "        print(f\"school name is {cls.school_name}\")\n",
    "    \n",
    "    @staticmethod\n",
    "    def info():\n",
    "        print(\"this is the class of abc\")\n",
    "        \n",
    "        \n",
    "s1 = School(10,20)\n",
    "s1.avg()\n",
    "\n",
    "School.get_school_name()\n",
    "\n",
    "School.info()"
   ]
  },
  {
   "cell_type": "markdown",
   "id": "ef7d18a6",
   "metadata": {},
   "source": [
    "Inheritance ==> parent and child relationship\n",
    "\n",
    "Main Type:- single, multiple, multilevel, Hierarchical and Hybrid \n",
    "    "
   ]
  },
  {
   "cell_type": "code",
   "execution_count": 60,
   "id": "fdd89e6d",
   "metadata": {},
   "outputs": [
    {
     "name": "stdout",
     "output_type": "stream",
     "text": [
      "from super class\n",
      "from sub class\n",
      "this is feature1\n"
     ]
    }
   ],
   "source": [
    "# single level inheritance:\n",
    "\n",
    "# ** if you create objects of sub class first it will try to find init of sub class if it is not found then\n",
    "# it will call init of super class\n",
    "class A:\n",
    "#     super class\n",
    "\n",
    "    def __init__(self):\n",
    "        print(\"from super class\")\n",
    "        \n",
    "    def feature1(self):\n",
    "        print(\"this is feature1\")\n",
    "        \n",
    "    def feature2(self):\n",
    "        print(\"this is feature2\")\n",
    "\n",
    "class B(A):\n",
    "#     sub class\n",
    "    def __init__(self):\n",
    "        super().__init__()\n",
    "        print(\"from sub class\")\n",
    "        \n",
    "    def feature3(self):\n",
    "        print(\"this is feature3\")\n",
    "        \n",
    "b = B()\n",
    "b.feature1()\n",
    "    "
   ]
  },
  {
   "cell_type": "code",
   "execution_count": 63,
   "id": "615cd60d",
   "metadata": {},
   "outputs": [
    {
     "name": "stdout",
     "output_type": "stream",
     "text": [
      "from A\n",
      "checked\n"
     ]
    }
   ],
   "source": [
    "# multiple Inheritance\n",
    "# MRO => method resolution order = Always left to right \n",
    "class A:\n",
    "    \n",
    "    def __init__(self):\n",
    "        print(\"from A\")\n",
    "    \n",
    "    def check1(self):\n",
    "        print(\"checked\")\n",
    "        \n",
    "class B:\n",
    "    \n",
    "    def __init__(Self):\n",
    "        print(\"from B\")\n",
    "        \n",
    "    def check1(self):\n",
    "        print(\"checked B\")\n",
    "\n",
    "class C(A,B):\n",
    "    \n",
    "    def xyz(self):\n",
    "        pass\n",
    "c = C()\n",
    "c.check1()"
   ]
  },
  {
   "cell_type": "code",
   "execution_count": 51,
   "id": "e7a9cf8d",
   "metadata": {},
   "outputs": [],
   "source": [
    "# multilevel\n",
    "class A:\n",
    "    pass\n",
    "class B(A):\n",
    "    pass\n",
    "class C(B):\n",
    "    pass"
   ]
  },
  {
   "cell_type": "code",
   "execution_count": 64,
   "id": "70f09000",
   "metadata": {},
   "outputs": [
    {
     "name": "stdout",
     "output_type": "stream",
     "text": [
      "This function is in parent class.\n",
      "This function is in child 1.\n",
      "This function is in parent class.\n",
      "This function is in child 2.\n"
     ]
    }
   ],
   "source": [
    "# Hierarchical Inheritance:\n",
    "# Base class\n",
    "class Parent:\n",
    "      def func1(self):\n",
    "          print(\"This function is in parent class.\")\n",
    " \n",
    "# Derived class1\n",
    "class Child1(Parent):\n",
    "      def func2(self):\n",
    "          print(\"This function is in child 1.\")\n",
    " \n",
    "# Derivied class2\n",
    "class Child2(Parent):\n",
    "      def func3(self):\n",
    "          print(\"This function is in child 2.\")\n",
    "  \n",
    "# Driver's code\n",
    "object1 = Child1()\n",
    "object2 = Child2()\n",
    "object1.func1()\n",
    "object1.func2()\n",
    "object2.func1()\n",
    "object2.func3()"
   ]
  },
  {
   "cell_type": "code",
   "execution_count": 65,
   "id": "101ed753",
   "metadata": {},
   "outputs": [
    {
     "name": "stdout",
     "output_type": "stream",
     "text": [
      "This function is in school.\n",
      "This function is in student 1. \n"
     ]
    }
   ],
   "source": [
    "# Hybrid Inheritance\n",
    "class School:\n",
    "     def func1(self):\n",
    "         print(\"This function is in school.\")\n",
    "        \n",
    "  \n",
    "class Student1(School):\n",
    "     def func2(self):\n",
    "         print(\"This function is in student 1. \")\n",
    "  \n",
    "class Student2(School):\n",
    "     def func3(self):\n",
    "         print(\"This function is in student 2.\")\n",
    "  \n",
    "class Student3(Student1, School):\n",
    "     def func4(self):\n",
    "         print(\"This function is in student 3.\")\n",
    "  \n",
    "# Driver's code\n",
    "object = Student3()\n",
    "object.func1()\n",
    "object.func2()"
   ]
  },
  {
   "cell_type": "markdown",
   "id": "8bc4af17",
   "metadata": {},
   "source": [
    "Polymorphism in Python ==> https://www.geeksforgeeks.org/polymorphism-in-python/\n",
    "\n",
    "Abstract Classes in Python ==> https://www.geeksforgeeks.org/abstract-classes-in-python/\n",
    "\n",
    "Encapsulation in Python ==> https://www.geeksforgeeks.org/encapsulation-in-python/"
   ]
  },
  {
   "cell_type": "code",
   "execution_count": 79,
   "id": "88d8bc49",
   "metadata": {},
   "outputs": [
    {
     "ename": "TypeError",
     "evalue": "Can't instantiate abstract class Rectangular with abstract methods printArea",
     "output_type": "error",
     "traceback": [
      "\u001b[0;31m---------------------------------------------------------------------------\u001b[0m",
      "\u001b[0;31mTypeError\u001b[0m                                 Traceback (most recent call last)",
      "\u001b[0;32m<ipython-input-79-3d3ddde69d85>\u001b[0m in \u001b[0;36m<module>\u001b[0;34m\u001b[0m\n\u001b[1;32m     14\u001b[0m         \u001b[0mself\u001b[0m\u001b[0;34m.\u001b[0m\u001b[0mb\u001b[0m \u001b[0;34m=\u001b[0m \u001b[0;36m10\u001b[0m\u001b[0;34m\u001b[0m\u001b[0;34m\u001b[0m\u001b[0m\n\u001b[1;32m     15\u001b[0m \u001b[0;34m\u001b[0m\u001b[0m\n\u001b[0;32m---> 16\u001b[0;31m \u001b[0mobj1\u001b[0m \u001b[0;34m=\u001b[0m \u001b[0mRectangular\u001b[0m\u001b[0;34m(\u001b[0m\u001b[0;34m)\u001b[0m\u001b[0;34m\u001b[0m\u001b[0;34m\u001b[0m\u001b[0m\n\u001b[0m\u001b[1;32m     17\u001b[0m \u001b[0;31m#  you can't create object without defining printArea method\u001b[0m\u001b[0;34m\u001b[0m\u001b[0;34m\u001b[0m\u001b[0;34m\u001b[0m\u001b[0m\n",
      "\u001b[0;31mTypeError\u001b[0m: Can't instantiate abstract class Rectangular with abstract methods printArea"
     ]
    }
   ],
   "source": [
    "# Abstract Classes in Python\n",
    "\n",
    "from abc import ABC, abstractmethod\n",
    "\n",
    "class Shape(ABC):\n",
    "    \n",
    "    @abstractmethod\n",
    "    def printArea(self):\n",
    "        pass\n",
    "    \n",
    "class Rectangular(Shape):\n",
    "    def __init__(self):\n",
    "        self.a = 9\n",
    "        self.b = 10\n",
    "\n",
    "obj1 = Rectangular()\n",
    "#  you can't create object without defining printArea method "
   ]
  },
  {
   "cell_type": "code",
   "execution_count": 81,
   "id": "580b279c",
   "metadata": {},
   "outputs": [
    {
     "data": {
      "text/plain": [
       "90"
      ]
     },
     "execution_count": 81,
     "metadata": {},
     "output_type": "execute_result"
    }
   ],
   "source": [
    "# Abstract Classes in Python\n",
    "\n",
    "from abc import ABC, abstractmethod\n",
    "\n",
    "class Shape(ABC):\n",
    "    \n",
    "    @abstractmethod\n",
    "    def printArea(self):\n",
    "        pass\n",
    "    \n",
    "class Rectangular(Shape):\n",
    "    def __init__(self):\n",
    "        self.a = 9\n",
    "        self.b = 10\n",
    "        \n",
    "    def printArea(self):\n",
    "        return self.a*self.b\n",
    "        \n",
    "\n",
    "obj1 = Rectangular()\n",
    "obj1.printArea()"
   ]
  },
  {
   "cell_type": "code",
   "execution_count": null,
   "id": "130a9d85",
   "metadata": {},
   "outputs": [],
   "source": [
    "# Encapsulation in Python => concept of private public and protected\n",
    "# Polymorphism in Python => Takes many form"
   ]
  },
  {
   "cell_type": "code",
   "execution_count": 75,
   "id": "a0d5bb42",
   "metadata": {},
   "outputs": [
    {
     "name": "stdout",
     "output_type": "stream",
     "text": [
      "hii\n",
      "hello\n",
      "hii\n",
      "hello\n",
      "hii\n",
      "hello\n",
      "hii\n",
      "hello\n",
      "hii\n",
      "hello\n",
      "bye\n"
     ]
    }
   ],
   "source": [
    "# Multithreading in python\n",
    "import time\n",
    "from threading import *\n",
    "\n",
    "class Hi(Thread):\n",
    "    def run(self):\n",
    "        for i in range(5):\n",
    "            print(\"hii\")\n",
    "            time.sleep(1)\n",
    "\n",
    "class Hello(Thread):\n",
    "    def run(self):\n",
    "        for i in range(5):\n",
    "            print(\"hello\")\n",
    "            time.sleep(1)\n",
    "            \n",
    "t1 = Hi()\n",
    "t2 = Hello()\n",
    "\n",
    "# t1.run()\n",
    "# t2.run()\n",
    "            \n",
    "t1.start()\n",
    "t2.start()\n",
    "\n",
    "t1.join()\n",
    "t2.join()\n",
    "\n",
    "print(\"bye\")"
   ]
  },
  {
   "cell_type": "code",
   "execution_count": null,
   "id": "e59f88b1",
   "metadata": {},
   "outputs": [],
   "source": []
  }
 ],
 "metadata": {
  "kernelspec": {
   "display_name": "Python 3",
   "language": "python",
   "name": "python3"
  },
  "language_info": {
   "codemirror_mode": {
    "name": "ipython",
    "version": 3
   },
   "file_extension": ".py",
   "mimetype": "text/x-python",
   "name": "python",
   "nbconvert_exporter": "python",
   "pygments_lexer": "ipython3",
   "version": "3.6.9"
  }
 },
 "nbformat": 4,
 "nbformat_minor": 5
}
